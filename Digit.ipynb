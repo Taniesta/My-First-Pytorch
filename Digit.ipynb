{
 "cells": [
  {
   "cell_type": "code",
   "execution_count": 1,
   "metadata": {},
   "outputs": [],
   "source": [
    "from __future__ import print_function, division\n",
    "import os\n",
    "import torch\n",
    "import pandas as pd\n",
    "from skimage import io, transform\n",
    "import numpy as np\n",
    "import matplotlib.pyplot as plt\n",
    "from torch.utils.data import Dataset, DataLoader, TensorDataset\n",
    "import torchvision\n",
    "from torchvision import transforms, utils\n",
    "import torch.nn as nn\n",
    "import torch.nn.functional as F\n",
    "from sklearn.metrics import confusion_matrix\n",
    "import itertools"
   ]
  },
  {
   "cell_type": "code",
   "execution_count": 2,
   "metadata": {},
   "outputs": [],
   "source": [
    "df = pd.read_csv(\"train.csv\")"
   ]
  },
  {
   "cell_type": "code",
   "execution_count": 3,
   "metadata": {},
   "outputs": [
    {
     "name": "stdout",
     "output_type": "stream",
     "text": [
      "(42000, 785)\n"
     ]
    },
    {
     "data": {
      "text/html": [
       "<div>\n",
       "<style scoped>\n",
       "    .dataframe tbody tr th:only-of-type {\n",
       "        vertical-align: middle;\n",
       "    }\n",
       "\n",
       "    .dataframe tbody tr th {\n",
       "        vertical-align: top;\n",
       "    }\n",
       "\n",
       "    .dataframe thead th {\n",
       "        text-align: right;\n",
       "    }\n",
       "</style>\n",
       "<table border=\"1\" class=\"dataframe\">\n",
       "  <thead>\n",
       "    <tr style=\"text-align: right;\">\n",
       "      <th></th>\n",
       "      <th>label</th>\n",
       "      <th>pixel0</th>\n",
       "      <th>pixel1</th>\n",
       "      <th>pixel2</th>\n",
       "      <th>pixel3</th>\n",
       "      <th>pixel4</th>\n",
       "      <th>pixel5</th>\n",
       "      <th>pixel6</th>\n",
       "      <th>pixel7</th>\n",
       "      <th>pixel8</th>\n",
       "      <th>...</th>\n",
       "      <th>pixel774</th>\n",
       "      <th>pixel775</th>\n",
       "      <th>pixel776</th>\n",
       "      <th>pixel777</th>\n",
       "      <th>pixel778</th>\n",
       "      <th>pixel779</th>\n",
       "      <th>pixel780</th>\n",
       "      <th>pixel781</th>\n",
       "      <th>pixel782</th>\n",
       "      <th>pixel783</th>\n",
       "    </tr>\n",
       "  </thead>\n",
       "  <tbody>\n",
       "    <tr>\n",
       "      <th>0</th>\n",
       "      <td>1</td>\n",
       "      <td>0</td>\n",
       "      <td>0</td>\n",
       "      <td>0</td>\n",
       "      <td>0</td>\n",
       "      <td>0</td>\n",
       "      <td>0</td>\n",
       "      <td>0</td>\n",
       "      <td>0</td>\n",
       "      <td>0</td>\n",
       "      <td>...</td>\n",
       "      <td>0</td>\n",
       "      <td>0</td>\n",
       "      <td>0</td>\n",
       "      <td>0</td>\n",
       "      <td>0</td>\n",
       "      <td>0</td>\n",
       "      <td>0</td>\n",
       "      <td>0</td>\n",
       "      <td>0</td>\n",
       "      <td>0</td>\n",
       "    </tr>\n",
       "    <tr>\n",
       "      <th>1</th>\n",
       "      <td>0</td>\n",
       "      <td>0</td>\n",
       "      <td>0</td>\n",
       "      <td>0</td>\n",
       "      <td>0</td>\n",
       "      <td>0</td>\n",
       "      <td>0</td>\n",
       "      <td>0</td>\n",
       "      <td>0</td>\n",
       "      <td>0</td>\n",
       "      <td>...</td>\n",
       "      <td>0</td>\n",
       "      <td>0</td>\n",
       "      <td>0</td>\n",
       "      <td>0</td>\n",
       "      <td>0</td>\n",
       "      <td>0</td>\n",
       "      <td>0</td>\n",
       "      <td>0</td>\n",
       "      <td>0</td>\n",
       "      <td>0</td>\n",
       "    </tr>\n",
       "    <tr>\n",
       "      <th>2</th>\n",
       "      <td>1</td>\n",
       "      <td>0</td>\n",
       "      <td>0</td>\n",
       "      <td>0</td>\n",
       "      <td>0</td>\n",
       "      <td>0</td>\n",
       "      <td>0</td>\n",
       "      <td>0</td>\n",
       "      <td>0</td>\n",
       "      <td>0</td>\n",
       "      <td>...</td>\n",
       "      <td>0</td>\n",
       "      <td>0</td>\n",
       "      <td>0</td>\n",
       "      <td>0</td>\n",
       "      <td>0</td>\n",
       "      <td>0</td>\n",
       "      <td>0</td>\n",
       "      <td>0</td>\n",
       "      <td>0</td>\n",
       "      <td>0</td>\n",
       "    </tr>\n",
       "    <tr>\n",
       "      <th>3</th>\n",
       "      <td>4</td>\n",
       "      <td>0</td>\n",
       "      <td>0</td>\n",
       "      <td>0</td>\n",
       "      <td>0</td>\n",
       "      <td>0</td>\n",
       "      <td>0</td>\n",
       "      <td>0</td>\n",
       "      <td>0</td>\n",
       "      <td>0</td>\n",
       "      <td>...</td>\n",
       "      <td>0</td>\n",
       "      <td>0</td>\n",
       "      <td>0</td>\n",
       "      <td>0</td>\n",
       "      <td>0</td>\n",
       "      <td>0</td>\n",
       "      <td>0</td>\n",
       "      <td>0</td>\n",
       "      <td>0</td>\n",
       "      <td>0</td>\n",
       "    </tr>\n",
       "    <tr>\n",
       "      <th>4</th>\n",
       "      <td>0</td>\n",
       "      <td>0</td>\n",
       "      <td>0</td>\n",
       "      <td>0</td>\n",
       "      <td>0</td>\n",
       "      <td>0</td>\n",
       "      <td>0</td>\n",
       "      <td>0</td>\n",
       "      <td>0</td>\n",
       "      <td>0</td>\n",
       "      <td>...</td>\n",
       "      <td>0</td>\n",
       "      <td>0</td>\n",
       "      <td>0</td>\n",
       "      <td>0</td>\n",
       "      <td>0</td>\n",
       "      <td>0</td>\n",
       "      <td>0</td>\n",
       "      <td>0</td>\n",
       "      <td>0</td>\n",
       "      <td>0</td>\n",
       "    </tr>\n",
       "  </tbody>\n",
       "</table>\n",
       "<p>5 rows × 785 columns</p>\n",
       "</div>"
      ],
      "text/plain": [
       "   label  pixel0  pixel1  pixel2  pixel3  pixel4  pixel5  pixel6  pixel7  \\\n",
       "0      1       0       0       0       0       0       0       0       0   \n",
       "1      0       0       0       0       0       0       0       0       0   \n",
       "2      1       0       0       0       0       0       0       0       0   \n",
       "3      4       0       0       0       0       0       0       0       0   \n",
       "4      0       0       0       0       0       0       0       0       0   \n",
       "\n",
       "   pixel8  ...  pixel774  pixel775  pixel776  pixel777  pixel778  pixel779  \\\n",
       "0       0  ...         0         0         0         0         0         0   \n",
       "1       0  ...         0         0         0         0         0         0   \n",
       "2       0  ...         0         0         0         0         0         0   \n",
       "3       0  ...         0         0         0         0         0         0   \n",
       "4       0  ...         0         0         0         0         0         0   \n",
       "\n",
       "   pixel780  pixel781  pixel782  pixel783  \n",
       "0         0         0         0         0  \n",
       "1         0         0         0         0  \n",
       "2         0         0         0         0  \n",
       "3         0         0         0         0  \n",
       "4         0         0         0         0  \n",
       "\n",
       "[5 rows x 785 columns]"
      ]
     },
     "execution_count": 3,
     "metadata": {},
     "output_type": "execute_result"
    }
   ],
   "source": [
    "print(df.shape)\n",
    "p = int(np.sqrt(df.shape[1]-1))\n",
    "df.head()"
   ]
  },
  {
   "cell_type": "code",
   "execution_count": 4,
   "metadata": {},
   "outputs": [
    {
     "name": "stderr",
     "output_type": "stream",
     "text": [
      "/anaconda3/lib/python3.7/site-packages/ipykernel_launcher.py:1: FutureWarning: Method .as_matrix will be removed in a future version. Use .values instead.\n",
      "  \"\"\"Entry point for launching an IPython kernel.\n"
     ]
    },
    {
     "data": {
      "text/plain": [
       "<matplotlib.image.AxesImage at 0x1c2b7d9358>"
      ]
     },
     "execution_count": 4,
     "metadata": {},
     "output_type": "execute_result"
    },
    {
     "data": {
      "image/png": "[encoded data removed]",
      "text/plain": [
       "<Figure size 432x288 with 1 Axes>"
      ]
     },
     "metadata": {
      "needs_background": "light"
     },
     "output_type": "display_data"
    }
   ],
   "source": [
    "plt.imshow(df.iloc[1,1:].as_matrix().reshape(p,-1))"
   ]
  },
  {
   "cell_type": "code",
   "execution_count": 5,
   "metadata": {},
   "outputs": [
    {
     "name": "stdout",
     "output_type": "stream",
     "text": [
      "4200\n",
      "42000\n"
     ]
    }
   ],
   "source": [
    "chosen = np.random.choice(range(len(df)),int(.9*len(df)),replace = False)\n",
    "train_df = df.iloc[chosen,:]\n",
    "valid_df = df.drop(axis = 0, index = chosen)\n",
    "print(len(valid_df))\n",
    "print(len(df))"
   ]
  },
  {
   "cell_type": "code",
   "execution_count": 86,
   "metadata": {},
   "outputs": [],
   "source": [
    "class MnistDataset(Dataset):\n",
    "    \"\"\"Face Landmarks dataset.\"\"\"\n",
    "\n",
    "    def __init__(self, df, transform=None, width = p):\n",
    "        self.data_frame = df\n",
    "        self.transform = transform\n",
    "        self.width = width\n",
    "\n",
    "    def __len__(self):\n",
    "        return len(self.data_frame)\n",
    "\n",
    "    def __getitem__(self, idx):\n",
    "        pixels = transforms.ToTensor()(self.data_frame.iloc[idx,1:].values.reshape(self.width,-1,1)).to(dtype = torch.float)\n",
    "        label = self.data_frame.iloc[idx,0]\n",
    "        if self.transform:\n",
    "            pixels = self.transform(pixels)\n",
    "        return [label,pixels]"
   ]
  },
  {
   "cell_type": "code",
   "execution_count": 124,
   "metadata": {},
   "outputs": [],
   "source": [
    "trans = transforms.Compose([\n",
    "#    transforms.ToPILImage(),\n",
    "#    transforms.CenterCrop(28),\n",
    "#    transforms.ToTensor()\n",
    "])\n",
    "train_dataset = MnistDataset(df = train_df,transform = trans)\n",
    "valid_set = MnistDataset(df = valid_df,transform = trans)\n",
    "all_set = MnistDataset(df = df,transform = trans)"
   ]
  },
  {
   "cell_type": "code",
   "execution_count": 126,
   "metadata": {},
   "outputs": [],
   "source": [
    "trainloader = torch.utils.data.DataLoader(train_dataset, batch_size=100,\n",
    "                                          shuffle=False, num_workers=6)\n",
    "validloader = torch.utils.data.DataLoader(valid_set, batch_size=1,\n",
    "                                          shuffle=False, num_workers=6)\n",
    "allloader = torch.utils.data.DataLoader(all_set, batch_size=100,\n",
    "                                          shuffle=False, num_workers=6)"
   ]
  },
  {
   "cell_type": "code",
   "execution_count": 127,
   "metadata": {},
   "outputs": [
    {
     "data": {
      "image/png": "[encoded data removed]",
      "text/plain": [
       "<Figure size 432x288 with 1 Axes>"
      ]
     },
     "metadata": {
      "needs_background": "light"
     },
     "output_type": "display_data"
    },
    {
     "data": {
      "image/png": "[encoded data removed]",
      "text/plain": [
       "<Figure size 432x288 with 1 Axes>"
      ]
     },
     "metadata": {
      "needs_background": "light"
     },
     "output_type": "display_data"
    },
    {
     "data": {
      "image/png": "[encoded data removed]",
      "text/plain": [
       "<Figure size 432x288 with 1 Axes>"
      ]
     },
     "metadata": {
      "needs_background": "light"
     },
     "output_type": "display_data"
    },
    {
     "data": {
      "image/png": "[encoded data removed]",
      "text/plain": [
       "<Figure size 432x288 with 1 Axes>"
      ]
     },
     "metadata": {
      "needs_background": "light"
     },
     "output_type": "display_data"
    }
   ],
   "source": [
    "for i,data in enumerate(trainloader,0):\n",
    "    if i >= 1:\n",
    "        break\n",
    "    label, pixels = data\n",
    "    for j in range(4):\n",
    "        plt.imshow(pixels.numpy()[j][0])\n",
    "        plt.show()"
   ]
  },
  {
   "cell_type": "code",
   "execution_count": 128,
   "metadata": {},
   "outputs": [],
   "source": [
    "class Net(nn.Module):\n",
    "    def __init__(self):\n",
    "        super(Net, self).__init__()\n",
    "        self.conv1 = nn.Conv2d(1, 16, 5)\n",
    "        self.pool = nn.MaxPool2d(2, 2)\n",
    "        self.conv2 = nn.Conv2d(16, 32, 5)\n",
    "        self.fc1 = nn.Linear(32 * 4 * 4, 24)\n",
    "        self.fc2 = nn.Linear(24, 10)\n",
    "\n",
    "    def forward(self, x):\n",
    "        x = self.pool(F.relu(self.conv1(x)))\n",
    "        x = self.pool(F.relu(self.conv2(x)))\n",
    "        x = x.view(-1, 32 * 4 * 4)\n",
    "        x = F.relu(self.fc1(x))\n",
    "        x = self.fc2(x)\n",
    "        return x\n",
    "\n",
    "net = Net()"
   ]
  },
  {
   "cell_type": "code",
   "execution_count": 129,
   "metadata": {},
   "outputs": [],
   "source": [
    "import torch.optim as optim\n",
    "\n",
    "criterion = nn.CrossEntropyLoss()\n",
    "optimizer = optim.SGD(net.parameters(), lr=.003, momentum=.9)"
   ]
  },
  {
   "cell_type": "code",
   "execution_count": 130,
   "metadata": {},
   "outputs": [
    {
     "name": "stdout",
     "output_type": "stream",
     "text": [
      "[1,   100] loss: 2.692\n",
      "valid accuracy: 63.9048\n",
      "[1,   200] loss: 0.844\n",
      "valid accuracy: 85.7857\n",
      "[1,   300] loss: 0.282\n",
      "valid accuracy: 95.2857\n",
      "[2,   100] loss: 0.151\n",
      "valid accuracy: 96.2619\n",
      "[2,   200] loss: 0.108\n",
      "valid accuracy: 96.8333\n",
      "[2,   300] loss: 0.110\n",
      "valid accuracy: 96.7619\n",
      "[3,   100] loss: 0.100\n",
      "valid accuracy: 96.1667\n",
      "[3,   200] loss: 0.081\n",
      "valid accuracy: 96.9286\n",
      "[3,   300] loss: 0.074\n",
      "valid accuracy: 97.2857\n",
      "[4,   100] loss: 0.075\n",
      "valid accuracy: 97.3810\n",
      "[4,   200] loss: 0.053\n",
      "valid accuracy: 97.8333\n",
      "[4,   300] loss: 0.059\n",
      "valid accuracy: 97.2381\n",
      "[5,   100] loss: 0.064\n",
      "valid accuracy: 97.6667\n",
      "[5,   200] loss: 0.043\n",
      "valid accuracy: 97.4762\n",
      "[5,   300] loss: 0.049\n",
      "valid accuracy: 97.6429\n",
      "[6,   100] loss: 0.049\n",
      "valid accuracy: 97.9048\n",
      "[6,   200] loss: 0.031\n",
      "valid accuracy: 97.2619\n",
      "[6,   300] loss: 0.040\n",
      "valid accuracy: 97.8095\n",
      "[7,   100] loss: 0.043\n",
      "valid accuracy: 97.9048\n",
      "[7,   200] loss: 0.026\n",
      "valid accuracy: 97.8571\n",
      "[7,   300] loss: 0.039\n",
      "valid accuracy: 97.6429\n",
      "[8,   100] loss: 0.041\n",
      "valid accuracy: 98.1190\n",
      "[8,   200] loss: 0.022\n",
      "valid accuracy: 97.6667\n",
      "[8,   300] loss: 0.032\n",
      "valid accuracy: 97.5000\n",
      "[9,   100] loss: 0.033\n",
      "valid accuracy: 97.9286\n",
      "[9,   200] loss: 0.022\n",
      "valid accuracy: 97.8810\n",
      "[9,   300] loss: 0.033\n",
      "valid accuracy: 97.7619\n",
      "[10,   100] loss: 0.031\n",
      "valid accuracy: 97.8095\n",
      "[10,   200] loss: 0.021\n",
      "valid accuracy: 98.0000\n",
      "[10,   300] loss: 0.027\n",
      "valid accuracy: 98.1190\n",
      "[11,   100] loss: 0.029\n",
      "valid accuracy: 98.0000\n",
      "[11,   200] loss: 0.022\n",
      "valid accuracy: 97.9762\n",
      "[11,   300] loss: 0.029\n",
      "valid accuracy: 97.2857\n",
      "[12,   100] loss: 0.032\n",
      "valid accuracy: 97.9762\n",
      "[12,   200] loss: 0.020\n",
      "valid accuracy: 98.1429\n",
      "[12,   300] loss: 0.029\n",
      "valid accuracy: 97.8571\n",
      "[13,   100] loss: 0.029\n",
      "valid accuracy: 97.5000\n",
      "[13,   200] loss: 0.019\n",
      "valid accuracy: 97.6190\n",
      "[13,   300] loss: 0.024\n",
      "valid accuracy: 98.0952\n",
      "[14,   100] loss: 0.033\n",
      "valid accuracy: 97.6905\n",
      "[14,   200] loss: 0.017\n",
      "valid accuracy: 98.0952\n",
      "[14,   300] loss: 0.017\n",
      "valid accuracy: 98.2381\n",
      "[15,   100] loss: 0.023\n",
      "valid accuracy: 97.5000\n",
      "[15,   200] loss: 0.021\n",
      "valid accuracy: 98.1667\n",
      "[15,   300] loss: 0.014\n",
      "valid accuracy: 98.0238\n",
      "[16,   100] loss: 0.019\n",
      "valid accuracy: 98.0714\n",
      "[16,   200] loss: 0.012\n",
      "valid accuracy: 98.3571\n",
      "[16,   300] loss: 0.013\n",
      "valid accuracy: 98.3333\n",
      "[17,   100] loss: 0.016\n",
      "valid accuracy: 97.9762\n",
      "[17,   200] loss: 0.013\n",
      "valid accuracy: 97.9524\n",
      "[17,   300] loss: 0.012\n",
      "valid accuracy: 98.2143\n",
      "[18,   100] loss: 0.019\n",
      "valid accuracy: 97.5238\n",
      "[18,   200] loss: 0.015\n",
      "valid accuracy: 98.2619\n",
      "[18,   300] loss: 0.011\n",
      "valid accuracy: 98.1429\n",
      "[19,   100] loss: 0.017\n",
      "valid accuracy: 98.1429\n",
      "[19,   200] loss: 0.012\n",
      "valid accuracy: 98.0952\n",
      "[19,   300] loss: 0.010\n",
      "valid accuracy: 98.3333\n",
      "[20,   100] loss: 0.015\n",
      "valid accuracy: 97.9762\n",
      "[20,   200] loss: 0.014\n",
      "valid accuracy: 98.4048\n",
      "[20,   300] loss: 0.014\n",
      "valid accuracy: 98.0714\n",
      "Finished Training\n"
     ]
    }
   ],
   "source": [
    "for epoch in range(20):  # loop over the dataset multiple times\n",
    "    running_loss = 0.0\n",
    "    for i, data in enumerate(trainloader, 0):\n",
    "        # get the inputs\n",
    "        labels, inputs = data\n",
    "        # zero the parameter gradients\n",
    "        optimizer.zero_grad()\n",
    "        # forward + backward + optimize\n",
    "        outputs = net(inputs.to(dtype = torch.float))\n",
    "        loss = criterion(outputs, labels)\n",
    "        loss.backward()\n",
    "        optimizer.step()\n",
    "\n",
    "        # print statistics\n",
    "        running_loss += loss.item()\n",
    "        if i % 100 == 99:    # print every 100 mini-batches\n",
    "            print('[%d, %5d] loss: %.3f' %\n",
    "                  (epoch + 1, i + 1, running_loss / 100))\n",
    "            running_loss = 0.0\n",
    "            valid_cor = 0.0\n",
    "            total = 0\n",
    "            for data in validloader:\n",
    "                labels, inputs = data\n",
    "                total += len(labels)\n",
    "                valid_outputs = net(inputs.to(dtype = torch.float))\n",
    "                valid_predict = torch.max(valid_outputs.data,1)[1]\n",
    "                valid_cor += (valid_predict == labels).item()\n",
    "            print('valid accuracy: %.4f'%(100*float(valid_cor)/total))\n",
    "\n",
    "print('Finished Training')"
   ]
  },
  {
   "cell_type": "code",
   "execution_count": 131,
   "metadata": {},
   "outputs": [],
   "source": [
    "predict_array = []\n",
    "for data in validloader:\n",
    "    labels, inputs = data\n",
    "    total += len(labels)\n",
    "    valid_outputs = net(inputs.to(dtype = torch.float))\n",
    "    valid_predict = torch.max(valid_outputs.data,1)[1]\n",
    "    predict_array.append(valid_predict.numpy()[0])\n",
    "predict_array = np.array(predict_array)\n",
    "confusion_mtx = confusion_matrix(valid_df[\"label\"], predict_array)"
   ]
  },
  {
   "cell_type": "code",
   "execution_count": 132,
   "metadata": {},
   "outputs": [
    {
     "data": {
      "image/png": "[encoded data removed]",
      "text/plain": [
       "<Figure size 432x288 with 2 Axes>"
      ]
     },
     "metadata": {
      "needs_background": "light"
     },
     "output_type": "display_data"
    }
   ],
   "source": [
    "def plot_confusion_matrix(cm, classes,\n",
    "                          normalize=False,\n",
    "                          title='Confusion matrix',\n",
    "                          cmap=plt.cm.Blues):\n",
    "    \"\"\"\n",
    "    This function prints and plots the confusion matrix.\n",
    "    Normalization can be applied by setting `normalize=True`.\n",
    "    \"\"\"\n",
    "    plt.imshow(cm, interpolation='nearest', cmap=cmap)\n",
    "    plt.title(title)\n",
    "    plt.colorbar()\n",
    "    tick_marks = np.arange(len(classes))\n",
    "    plt.xticks(tick_marks, classes, rotation=45)\n",
    "    plt.yticks(tick_marks, classes)\n",
    "\n",
    "    if normalize:\n",
    "        cm = cm.astype('float') / cm.sum(axis=1)[:, np.newaxis]\n",
    "\n",
    "    thresh = cm.max() / 2.\n",
    "    for i, j in itertools.product(range(cm.shape[0]), range(cm.shape[1])):\n",
    "        plt.text(j, i, cm[i, j],\n",
    "                 horizontalalignment=\"center\",\n",
    "                 color=\"white\" if cm[i, j] > thresh else \"black\")\n",
    "\n",
    "    plt.tight_layout()\n",
    "    plt.ylabel('True label')\n",
    "    plt.xlabel('Predicted label')\n",
    "\n",
    "# plot the confusion matrix\n",
    "plot_confusion_matrix(confusion_mtx, classes = range(10)) "
   ]
  },
  {
   "cell_type": "code",
   "execution_count": 147,
   "metadata": {},
   "outputs": [
    {
     "data": {
      "image/png": "[encoded data removed]",
      "text/plain": [
       "<Figure size 432x288 with 1 Axes>"
      ]
     },
     "metadata": {
      "needs_background": "light"
     },
     "output_type": "display_data"
    },
    {
     "name": "stdout",
     "output_type": "stream",
     "text": [
      "4\n"
     ]
    },
    {
     "data": {
      "image/png": "[encoded data removed]",
      "text/plain": [
       "<Figure size 432x288 with 1 Axes>"
      ]
     },
     "metadata": {
      "needs_background": "light"
     },
     "output_type": "display_data"
    },
    {
     "name": "stdout",
     "output_type": "stream",
     "text": [
      "6\n"
     ]
    },
    {
     "data": {
      "image/png": "[encoded data removed]",
      "text/plain": [
       "<Figure size 432x288 with 1 Axes>"
      ]
     },
     "metadata": {
      "needs_background": "light"
     },
     "output_type": "display_data"
    },
    {
     "name": "stdout",
     "output_type": "stream",
     "text": [
      "2\n"
     ]
    },
    {
     "data": {
      "image/png": "[encoded data removed]",
      "text/plain": [
       "<Figure size 432x288 with 1 Axes>"
      ]
     },
     "metadata": {
      "needs_background": "light"
     },
     "output_type": "display_data"
    },
    {
     "name": "stdout",
     "output_type": "stream",
     "text": [
      "9\n"
     ]
    },
    {
     "data": {
      "image/png": "[encoded data removed]",
      "text/plain": [
       "<Figure size 432x288 with 1 Axes>"
      ]
     },
     "metadata": {
      "needs_background": "light"
     },
     "output_type": "display_data"
    },
    {
     "name": "stdout",
     "output_type": "stream",
     "text": [
      "9\n"
     ]
    }
   ],
   "source": [
    "num = 0\n",
    "for i in range(len(predict_array)):\n",
    "    if valid_df.iloc[i,0] != predict_array[i]:\n",
    "        plt.imshow(valid_df.iloc[i,1:].values.reshape([28,28]))\n",
    "        plt.show()\n",
    "        print(predict_array[i])\n",
    "        num += 1\n",
    "    if num >= 5:\n",
    "        break"
   ]
  },
  {
   "cell_type": "code",
   "execution_count": 134,
   "metadata": {},
   "outputs": [],
   "source": [
    "net_all = Net()\n",
    "criterion = nn.CrossEntropyLoss()\n",
    "optimizer = optim.SGD(net_all.parameters(), lr=.003, momentum=.9)"
   ]
  },
  {
   "cell_type": "code",
   "execution_count": 135,
   "metadata": {},
   "outputs": [
    {
     "name": "stdout",
     "output_type": "stream",
     "text": [
      "[1,   100] loss: 1.935\n",
      "[1,   200] loss: 1.467\n",
      "[1,   300] loss: 1.074\n",
      "[1,   400] loss: 0.621\n",
      "[2,   100] loss: 0.270\n",
      "[2,   200] loss: 0.196\n",
      "[2,   300] loss: 0.150\n",
      "[2,   400] loss: 0.113\n",
      "[3,   100] loss: 0.105\n",
      "[3,   200] loss: 0.084\n",
      "[3,   300] loss: 0.093\n",
      "[3,   400] loss: 0.067\n",
      "[4,   100] loss: 0.071\n",
      "[4,   200] loss: 0.064\n",
      "[4,   300] loss: 0.066\n",
      "[4,   400] loss: 0.047\n",
      "[5,   100] loss: 0.052\n",
      "[5,   200] loss: 0.050\n",
      "[5,   300] loss: 0.054\n",
      "[5,   400] loss: 0.038\n",
      "[6,   100] loss: 0.043\n",
      "[6,   200] loss: 0.042\n",
      "[6,   300] loss: 0.048\n",
      "[6,   400] loss: 0.041\n",
      "[7,   100] loss: 0.040\n",
      "[7,   200] loss: 0.035\n",
      "[7,   300] loss: 0.041\n",
      "[7,   400] loss: 0.041\n",
      "[8,   100] loss: 0.032\n",
      "[8,   200] loss: 0.027\n",
      "[8,   300] loss: 0.032\n",
      "[8,   400] loss: 0.034\n",
      "[9,   100] loss: 0.030\n",
      "[9,   200] loss: 0.027\n",
      "[9,   300] loss: 0.033\n",
      "[9,   400] loss: 0.032\n",
      "[10,   100] loss: 0.027\n",
      "[10,   200] loss: 0.029\n",
      "[10,   300] loss: 0.036\n",
      "[10,   400] loss: 0.030\n",
      "[11,   100] loss: 0.025\n",
      "[11,   200] loss: 0.023\n",
      "[11,   300] loss: 0.031\n",
      "[11,   400] loss: 0.025\n",
      "[12,   100] loss: 0.028\n",
      "[12,   200] loss: 0.026\n",
      "[12,   300] loss: 0.025\n",
      "[12,   400] loss: 0.028\n",
      "[13,   100] loss: 0.029\n",
      "[13,   200] loss: 0.028\n",
      "[13,   300] loss: 0.025\n",
      "[13,   400] loss: 0.024\n",
      "[14,   100] loss: 0.026\n",
      "[14,   200] loss: 0.021\n",
      "[14,   300] loss: 0.019\n",
      "[14,   400] loss: 0.020\n",
      "[15,   100] loss: 0.019\n",
      "[15,   200] loss: 0.017\n",
      "[15,   300] loss: 0.019\n",
      "[15,   400] loss: 0.027\n",
      "[16,   100] loss: 0.026\n",
      "[16,   200] loss: 0.018\n",
      "[16,   300] loss: 0.030\n",
      "[16,   400] loss: 0.020\n",
      "Finished Training\n"
     ]
    }
   ],
   "source": [
    "for epoch in range(16):  # loop over the dataset multiple times\n",
    "    running_loss = 0.0\n",
    "    for i, data in enumerate(allloader, 0):\n",
    "        # get the inputs\n",
    "        labels, inputs = data\n",
    "        # zero the parameter gradients\n",
    "        optimizer.zero_grad()\n",
    "        # forward + backward + optimize\n",
    "        outputs = net_all(inputs.to(dtype = torch.float))\n",
    "        loss = criterion(outputs, labels)\n",
    "        loss.backward()\n",
    "        optimizer.step()\n",
    "\n",
    "        # print statistics\n",
    "        running_loss += loss.item()\n",
    "        if i % 100 == 99:    # print every 100 mini-batches\n",
    "            print('[%d, %5d] loss: %.3f' %\n",
    "                  (epoch + 1, i + 1, running_loss / 100))\n",
    "            running_loss = 0.0\n",
    "\n",
    "print('Finished Training')"
   ]
  },
  {
   "cell_type": "code",
   "execution_count": 136,
   "metadata": {},
   "outputs": [],
   "source": [
    "test_df = pd.read_csv(\"test.csv\")\n",
    "test_np = test_df.values.reshape([-1,1,28,28]).astype(float)\n",
    "test_data = torch.from_numpy(test_np)"
   ]
  },
  {
   "cell_type": "code",
   "execution_count": 137,
   "metadata": {},
   "outputs": [],
   "source": [
    "pred_test = torch.argmax(net_all(test_data.to(dtype = torch.float)),1)"
   ]
  },
  {
   "cell_type": "code",
   "execution_count": 141,
   "metadata": {},
   "outputs": [
    {
     "data": {
      "image/png": "[encoded data removed]",
      "text/plain": [
       "<Figure size 432x288 with 1 Axes>"
      ]
     },
     "metadata": {
      "needs_background": "light"
     },
     "output_type": "display_data"
    },
    {
     "name": "stdout",
     "output_type": "stream",
     "text": [
      "tensor(2)\n"
     ]
    },
    {
     "data": {
      "image/png": "[encoded data removed]",
      "text/plain": [
       "<Figure size 432x288 with 1 Axes>"
      ]
     },
     "metadata": {
      "needs_background": "light"
     },
     "output_type": "display_data"
    },
    {
     "name": "stdout",
     "output_type": "stream",
     "text": [
      "tensor(0)\n"
     ]
    },
    {
     "data": {
      "image/png": "[encoded data removed]",
      "text/plain": [
       "<Figure size 432x288 with 1 Axes>"
      ]
     },
     "metadata": {
      "needs_background": "light"
     },
     "output_type": "display_data"
    },
    {
     "name": "stdout",
     "output_type": "stream",
     "text": [
      "tensor(6)\n"
     ]
    },
    {
     "data": {
      "image/png": "[encoded data removed]",
      "text/plain": [
       "<Figure size 432x288 with 1 Axes>"
      ]
     },
     "metadata": {
      "needs_background": "light"
     },
     "output_type": "display_data"
    },
    {
     "name": "stdout",
     "output_type": "stream",
     "text": [
      "tensor(4)\n"
     ]
    },
    {
     "data": {
      "image/png": "[encoded data removed]",
      "text/plain": [
       "<Figure size 432x288 with 1 Axes>"
      ]
     },
     "metadata": {
      "needs_background": "light"
     },
     "output_type": "display_data"
    },
    {
     "name": "stdout",
     "output_type": "stream",
     "text": [
      "tensor(6)\n"
     ]
    }
   ],
   "source": [
    "for i in range(1105,1110):\n",
    "    plt.imshow(test_np[i][0])\n",
    "    plt.show()\n",
    "    print(pred_test[i])"
   ]
  },
  {
   "cell_type": "code",
   "execution_count": 140,
   "metadata": {},
   "outputs": [
    {
     "name": "stdout",
     "output_type": "stream",
     "text": [
      "Saving  submission_cnn2.csv\n"
     ]
    }
   ],
   "source": [
    "def export_csv(model_name, predictions):\n",
    "    df = pd.DataFrame(predictions.tolist(), columns=['Label'])\n",
    "    df['ImageId'] = df.index + 1\n",
    "    file_name = f'submission_{model_name}.csv'\n",
    "    print('Saving ',file_name)\n",
    "    df[['ImageId','Label']].to_csv(file_name, index = False)\n",
    "export_csv(\"cnn2\",pred_test)\n",
    "torch.save(net_all.state_dict(), 'model.ckpt')"
   ]
  }
 ],
 "metadata": {
  "kernelspec": {
   "display_name": "Python 3",
   "language": "python",
   "name": "python3"
  },
  "language_info": {
   "codemirror_mode": {
    "name": "ipython",
    "version": 3
   },
   "file_extension": ".py",
   "mimetype": "text/x-python",
   "name": "python",
   "nbconvert_exporter": "python",
   "pygments_lexer": "ipython3",
   "version": "3.7.3"
  }
 },
 "nbformat": 4,
 "nbformat_minor": 2
}
